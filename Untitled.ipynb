{
  "nbformat": 4,
  "nbformat_minor": 0,
  "metadata": {
    "colab": {
      "provenance": [],
      "authorship_tag": "ABX9TyMRz/F65xYYHZO5+tLIhzMy",
      "include_colab_link": true
    },
    "kernelspec": {
      "name": "python3",
      "display_name": "Python 3"
    },
    "language_info": {
      "name": "python"
    }
  },
  "cells": [
    {
      "cell_type": "markdown",
      "metadata": {
        "id": "view-in-github",
        "colab_type": "text"
      },
      "source": [
        "<a href=\"https://colab.research.google.com/github/paulofrag/Fundamentos-quintafeira/blob/main/Untitled.ipynb\" target=\"_parent\"><img src=\"https://colab.research.google.com/assets/colab-badge.svg\" alt=\"Open In Colab\"/></a>"
      ]
    },
    {
      "cell_type": "markdown",
      "source": [
        "FUNDAMENTOS 01 QUINTA-FEIRA"
      ],
      "metadata": {
        "id": "-n8dNoo6_7wY"
      }
    },
    {
      "cell_type": "code",
      "source": [
        "print: 'Olá Mundo '"
      ],
      "metadata": {
        "id": "Q7y8XsWuAAaq"
      },
      "execution_count": 4,
      "outputs": []
    },
    {
      "cell_type": "markdown",
      "source": [
        "Importação de Bibliotecas:"
      ],
      "metadata": {
        "id": "HE2CDNaoBena"
      }
    },
    {
      "cell_type": "code",
      "source": [
        "import pandas as pd\n",
        "import numpy as np\n"
      ],
      "metadata": {
        "id": "YaLrcFlQBj_v"
      },
      "execution_count": null,
      "outputs": []
    },
    {
      "cell_type": "markdown",
      "source": [
        "Funções Nativas:\n",
        "  Funções Nativas são funções que o próprio Python entrega, nada mais é do que um bloquinho de código que o Pyhton já faz pronto pra ele. O print é uma função que tem o objetivo de rodar coisas na tela. Type - função que mostra o tipo do dado. Tudo que está entre aspas é um texto, chamado de spring."
      ],
      "metadata": {
        "id": "BAqZBnEqB9LF"
      }
    },
    {
      "cell_type": "code",
      "source": [
        "type (\"Olá Mundo\")\n",
        "type (1)\n",
        "type (1.5)\n"
      ],
      "metadata": {
        "colab": {
          "base_uri": "https://localhost:8080/"
        },
        "id": "3Vz1Df7bCXFZ",
        "outputId": "e76664fa-b8ec-46af-b7d7-110cda01d347"
      },
      "execution_count": 14,
      "outputs": [
        {
          "output_type": "execute_result",
          "data": {
            "text/plain": [
              "float"
            ]
          },
          "metadata": {},
          "execution_count": 14
        }
      ]
    },
    {
      "cell_type": "markdown",
      "source": [
        "Função - Nome () abre e fecha parenteses.\n"
      ],
      "metadata": {
        "id": "XVwfNDm4DQ2N"
      }
    }
  ]
}